{
 "cells": [
  {
   "cell_type": "markdown",
   "metadata": {},
   "source": [
    "# Forward-Backward Algorithm to estimate Posterior Distribution"
   ]
  },
  {
   "cell_type": "code",
   "execution_count": 1,
   "metadata": {},
   "outputs": [],
   "source": [
    "import numpy as np\n",
    "import pandas as pd"
   ]
  },
  {
   "cell_type": "code",
   "execution_count": 2,
   "metadata": {},
   "outputs": [],
   "source": [
    "def forward(obs_seq):     \n",
    "        alpha = np.zeros((len(obs_seq), A.shape[0]))\n",
    "        for i in range(A.shape[0]):\n",
    "          alpha[0,i]= pi[i]*B[i,obs_seq[0]]\n",
    "        for t in range(1, len(obs_seq)):\n",
    "            alpha[t] = alpha[t-1].dot(A) * B[:, obs_seq[t]]\n",
    "        return alpha\n",
    "\n",
    "def backward(obs_seq):\n",
    "        beta = np.zeros((A.shape[0],len(obs_seq)))\n",
    "        beta[:,-1:] = 1\n",
    "\n",
    "        for t in reversed(range(len(obs_seq)-1)):\n",
    "            for n in range(A.shape[0]):\n",
    "                beta[n,t] = np.sum(beta[:,t+1] * A[n,:] * B[:, obs_seq[t+1]])\n",
    "\n",
    "        return beta\n",
    "\n",
    "def likelihood(obs_seq):\n",
    "        total= forward(obs_seq)[-1].sum()\n",
    "        return total"
   ]
  },
  {
   "cell_type": "code",
   "execution_count": 3,
   "metadata": {},
   "outputs": [],
   "source": [
    "# Initial Probability\n",
    "pi = np.array([0.2, 0.5, 0.3])\n",
    "\n",
    "# Transmission Probability\n",
    "A = np.array([[0.6, 0.2, 0.2],[0.2, 0.6, 0.2],[0.2, 0.2, 0.6]])\n",
    "\n",
    "# Emission Probability\n",
    "B = np.array([[0.4, 0.3, 0.2, 0.1],[0.3, 0.2, 0.1, 0.4],[0.2, 0.1, 0.4, 0.3]])\n",
    "\n",
    "# Output Sequence\n",
    "out_seq= [3,0,2,0,2,0,3,1,0,1,3,1]"
   ]
  },
  {
   "cell_type": "code",
   "execution_count": 4,
   "metadata": {},
   "outputs": [],
   "source": [
    "def gamma(obs_seq):\n",
    "    alpha = forward(obs_seq)\n",
    "    beta  = backward(obs_seq)\n",
    "    obs_prob = likelihood(obs_seq)\n",
    "    return (np.multiply(alpha,beta.T) / obs_prob)"
   ]
  },
  {
   "cell_type": "code",
   "execution_count": 5,
   "metadata": {},
   "outputs": [
    {
     "name": "stdout",
     "output_type": "stream",
     "text": [
      "Posterior Distribution for 1 is [0.07885842 0.62904217 0.29209941]\n",
      "Posterior Distribution for 2 is [0.32833234 0.38285851 0.28880915]\n",
      "Posterior Distribution for 3 is [0.33892333 0.16641672 0.49465994]\n",
      "Posterior Distribution for 4 is [0.42897394 0.22452807 0.34649799]\n",
      "Posterior Distribution for 5 is [0.35348199 0.15644745 0.49007056]\n",
      "Posterior Distribution for 6 is [0.37782499 0.33600433 0.28617068]\n",
      "Posterior Distribution for 7 is [0.20037777 0.50325414 0.29636809]\n",
      "Posterior Distribution for 8 is [0.45463718 0.40438633 0.14097649]\n",
      "Posterior Distribution for 9 is [0.48978445 0.37468921 0.13552635]\n",
      "Posterior Distribution for 10 is [0.45391565 0.4152269  0.13085744]\n",
      "Posterior Distribution for 11 is [0.20801379 0.54318365 0.24880256]\n",
      "Posterior Distribution for 12 is [0.4122664  0.4227798  0.16495381]\n"
     ]
    }
   ],
   "source": [
    "prob= gamma(out_seq)\n",
    "for i in range(len(out_seq)):\n",
    "  print(\"Posterior Distribution for\",i+1,\"is\",prob[i])"
   ]
  }
 ],
 "metadata": {
  "kernelspec": {
   "display_name": "Python 3",
   "language": "python",
   "name": "python3"
  },
  "language_info": {
   "codemirror_mode": {
    "name": "ipython",
    "version": 3
   },
   "file_extension": ".py",
   "mimetype": "text/x-python",
   "name": "python",
   "nbconvert_exporter": "python",
   "pygments_lexer": "ipython3",
   "version": "3.7.3"
  }
 },
 "nbformat": 4,
 "nbformat_minor": 2
}
